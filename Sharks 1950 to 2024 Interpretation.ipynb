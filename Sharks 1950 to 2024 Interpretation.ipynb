{
 "cells": [
  {
   "cell_type": "markdown",
   "id": "5e78f9ba",
   "metadata": {},
   "source": [
    "## Previous set up"
   ]
  },
  {
   "cell_type": "code",
   "execution_count": 1,
   "id": "39e666b9",
   "metadata": {},
   "outputs": [],
   "source": [
    "import pandas as pd\n",
    "import matplotlib.pyplot as plt\n",
    "import seaborn as sns"
   ]
  },
  {
   "cell_type": "code",
   "execution_count": 2,
   "id": "69962eed",
   "metadata": {},
   "outputs": [],
   "source": [
    "data = pd.read_csv(\"sharks_1950_to_2024.csv\")"
   ]
  },
  {
   "cell_type": "code",
   "execution_count": 3,
   "id": "d4ee2c51",
   "metadata": {},
   "outputs": [],
   "source": [
    "df = data.copy()"
   ]
  },
  {
   "cell_type": "code",
   "execution_count": 4,
   "id": "afe495df",
   "metadata": {},
   "outputs": [
    {
     "data": {
      "text/html": [
       "<div>\n",
       "<style scoped>\n",
       "    .dataframe tbody tr th:only-of-type {\n",
       "        vertical-align: middle;\n",
       "    }\n",
       "\n",
       "    .dataframe tbody tr th {\n",
       "        vertical-align: top;\n",
       "    }\n",
       "\n",
       "    .dataframe thead th {\n",
       "        text-align: right;\n",
       "    }\n",
       "</style>\n",
       "<table border=\"1\" class=\"dataframe\">\n",
       "  <thead>\n",
       "    <tr style=\"text-align: right;\">\n",
       "      <th></th>\n",
       "      <th>year</th>\n",
       "      <th>sex</th>\n",
       "      <th>country</th>\n",
       "      <th>state</th>\n",
       "      <th>time</th>\n",
       "      <th>activity</th>\n",
       "      <th>type</th>\n",
       "      <th>deadly_attack</th>\n",
       "    </tr>\n",
       "  </thead>\n",
       "  <tbody>\n",
       "    <tr>\n",
       "      <th>0</th>\n",
       "      <td>2024</td>\n",
       "      <td>Male</td>\n",
       "      <td>BAHRAIN</td>\n",
       "      <td>Unknown</td>\n",
       "      <td>Night</td>\n",
       "      <td>Fishing</td>\n",
       "      <td>Provoked</td>\n",
       "      <td>N</td>\n",
       "    </tr>\n",
       "    <tr>\n",
       "      <th>1</th>\n",
       "      <td>2024</td>\n",
       "      <td>Male</td>\n",
       "      <td>BAHAMAS</td>\n",
       "      <td>Paradise  Island</td>\n",
       "      <td>Evening</td>\n",
       "      <td>Swimming</td>\n",
       "      <td>Unprovoked</td>\n",
       "      <td>N</td>\n",
       "    </tr>\n",
       "    <tr>\n",
       "      <th>2</th>\n",
       "      <td>2024</td>\n",
       "      <td>Male</td>\n",
       "      <td>AUSTRALIA</td>\n",
       "      <td>South Australia</td>\n",
       "      <td>Afternoon</td>\n",
       "      <td>Surf</td>\n",
       "      <td>Unprovoked</td>\n",
       "      <td>N</td>\n",
       "    </tr>\n",
       "    <tr>\n",
       "      <th>3</th>\n",
       "      <td>2024</td>\n",
       "      <td>Male</td>\n",
       "      <td>SOUTH AFRICA</td>\n",
       "      <td>Eastern Cape Province</td>\n",
       "      <td>Night</td>\n",
       "      <td>Fishing</td>\n",
       "      <td>Provoked</td>\n",
       "      <td>N</td>\n",
       "    </tr>\n",
       "    <tr>\n",
       "      <th>4</th>\n",
       "      <td>2023</td>\n",
       "      <td>Male</td>\n",
       "      <td>USA</td>\n",
       "      <td>Hawaii</td>\n",
       "      <td>Morning</td>\n",
       "      <td>Surf</td>\n",
       "      <td>Unprovoked</td>\n",
       "      <td>Y</td>\n",
       "    </tr>\n",
       "  </tbody>\n",
       "</table>\n",
       "</div>"
      ],
      "text/plain": [
       "   year   sex       country                  state       time  activity  \\\n",
       "0  2024  Male       BAHRAIN                Unknown      Night   Fishing   \n",
       "1  2024  Male       BAHAMAS       Paradise  Island    Evening  Swimming   \n",
       "2  2024  Male     AUSTRALIA        South Australia  Afternoon      Surf   \n",
       "3  2024  Male  SOUTH AFRICA  Eastern Cape Province      Night   Fishing   \n",
       "4  2023  Male           USA                 Hawaii    Morning      Surf   \n",
       "\n",
       "         type deadly_attack  \n",
       "0    Provoked             N  \n",
       "1  Unprovoked             N  \n",
       "2  Unprovoked             N  \n",
       "3    Provoked             N  \n",
       "4  Unprovoked             Y  "
      ]
     },
     "execution_count": 4,
     "metadata": {},
     "output_type": "execute_result"
    }
   ],
   "source": [
    "df.head(5)"
   ]
  },
  {
   "cell_type": "markdown",
   "id": "4eb60b41",
   "metadata": {},
   "source": [
    "## Group and filtering"
   ]
  },
  {
   "cell_type": "markdown",
   "id": "c80dbae1",
   "metadata": {},
   "source": [
    "### Deadly reality"
   ]
  },
  {
   "cell_type": "code",
   "execution_count": 5,
   "id": "73d64427",
   "metadata": {},
   "outputs": [
    {
     "data": {
      "text/html": [
       "<div>\n",
       "<style scoped>\n",
       "    .dataframe tbody tr th:only-of-type {\n",
       "        vertical-align: middle;\n",
       "    }\n",
       "\n",
       "    .dataframe tbody tr th {\n",
       "        vertical-align: top;\n",
       "    }\n",
       "\n",
       "    .dataframe thead th {\n",
       "        text-align: right;\n",
       "    }\n",
       "</style>\n",
       "<table border=\"1\" class=\"dataframe\">\n",
       "  <thead>\n",
       "    <tr style=\"text-align: right;\">\n",
       "      <th></th>\n",
       "      <th>deadly_attack</th>\n",
       "      <th>count</th>\n",
       "    </tr>\n",
       "  </thead>\n",
       "  <tbody>\n",
       "    <tr>\n",
       "      <th>0</th>\n",
       "      <td>N</td>\n",
       "      <td>3974</td>\n",
       "    </tr>\n",
       "    <tr>\n",
       "      <th>1</th>\n",
       "      <td>Y</td>\n",
       "      <td>697</td>\n",
       "    </tr>\n",
       "    <tr>\n",
       "      <th>2</th>\n",
       "      <td>U</td>\n",
       "      <td>446</td>\n",
       "    </tr>\n",
       "  </tbody>\n",
       "</table>\n",
       "</div>"
      ],
      "text/plain": [
       "  deadly_attack  count\n",
       "0             N   3974\n",
       "1             Y    697\n",
       "2             U    446"
      ]
     },
     "execution_count": 5,
     "metadata": {},
     "output_type": "execute_result"
    }
   ],
   "source": [
    "df[\"deadly_attack\"].value_counts().reset_index()"
   ]
  },
  {
   "cell_type": "code",
   "execution_count": 6,
   "id": "1a738b70",
   "metadata": {},
   "outputs": [
    {
     "data": {
      "text/plain": [
       "5117"
      ]
     },
     "execution_count": 6,
     "metadata": {},
     "output_type": "execute_result"
    }
   ],
   "source": [
    "df[\"deadly_attack\"].value_counts().sum()"
   ]
  },
  {
   "cell_type": "code",
   "execution_count": 7,
   "id": "aafa72fa",
   "metadata": {},
   "outputs": [],
   "source": [
    "percentage_d_a = {}\n",
    "\n",
    "for ele,value in df[\"deadly_attack\"].value_counts().items():\n",
    "    percentage_d_a[ele] = (value / len(df[\"deadly_attack\"]) * 100)"
   ]
  },
  {
   "cell_type": "code",
   "execution_count": 8,
   "id": "831a3052",
   "metadata": {},
   "outputs": [],
   "source": [
    "percentage_d_a_rounded = {x: round(y, 2) for x,y in percentage_d_a.items()}"
   ]
  },
  {
   "cell_type": "code",
   "execution_count": 9,
   "id": "87526436",
   "metadata": {
    "scrolled": true
   },
   "outputs": [],
   "source": [
    "percentage_deadly_attack = pd.DataFrame(list(percentage_d_a_rounded.items()), columns=[\"deadly_attack\", \"percentage\"])"
   ]
  },
  {
   "cell_type": "code",
   "execution_count": 10,
   "id": "dca6d318",
   "metadata": {},
   "outputs": [
    {
     "data": {
      "text/html": [
       "<div>\n",
       "<style scoped>\n",
       "    .dataframe tbody tr th:only-of-type {\n",
       "        vertical-align: middle;\n",
       "    }\n",
       "\n",
       "    .dataframe tbody tr th {\n",
       "        vertical-align: top;\n",
       "    }\n",
       "\n",
       "    .dataframe thead th {\n",
       "        text-align: right;\n",
       "    }\n",
       "</style>\n",
       "<table border=\"1\" class=\"dataframe\">\n",
       "  <thead>\n",
       "    <tr style=\"text-align: right;\">\n",
       "      <th></th>\n",
       "      <th>deadly_attack</th>\n",
       "      <th>percentage</th>\n",
       "    </tr>\n",
       "  </thead>\n",
       "  <tbody>\n",
       "    <tr>\n",
       "      <th>0</th>\n",
       "      <td>N</td>\n",
       "      <td>77.66</td>\n",
       "    </tr>\n",
       "    <tr>\n",
       "      <th>1</th>\n",
       "      <td>Y</td>\n",
       "      <td>13.62</td>\n",
       "    </tr>\n",
       "    <tr>\n",
       "      <th>2</th>\n",
       "      <td>U</td>\n",
       "      <td>8.72</td>\n",
       "    </tr>\n",
       "  </tbody>\n",
       "</table>\n",
       "</div>"
      ],
      "text/plain": [
       "  deadly_attack  percentage\n",
       "0             N       77.66\n",
       "1             Y       13.62\n",
       "2             U        8.72"
      ]
     },
     "execution_count": 10,
     "metadata": {},
     "output_type": "execute_result"
    }
   ],
   "source": [
    "percentage_deadly_attack"
   ]
  },
  {
   "cell_type": "code",
   "execution_count": 11,
   "id": "4a2402bc",
   "metadata": {},
   "outputs": [
    {
     "data": {
      "text/plain": [
       "Text(0, 0.5, 'Percentage')"
      ]
     },
     "execution_count": 11,
     "metadata": {},
     "output_type": "execute_result"
    },
    {
     "data": {
      "image/png": "[encoded data removed]",
      "text/plain": [
       "<Figure size 300x300 with 1 Axes>"
      ]
     },
     "metadata": {},
     "output_type": "display_data"
    }
   ],
   "source": [
    "plt.figure(figsize=(3, 3))\n",
    "plt.bar(percentage_deadly_attack[\"deadly_attack\"], percentage_deadly_attack[\"percentage\"])\n",
    "plt.title('Deadly Reality 1950-2024')\n",
    "plt.xlabel('Results')\n",
    "plt.ylabel('Percentage')"
   ]
  },
  {
   "cell_type": "markdown",
   "id": "b86fde84",
   "metadata": {},
   "source": [
    "### Deadly activity"
   ]
  },
  {
   "cell_type": "code",
   "execution_count": 12,
   "id": "538ba9ca",
   "metadata": {},
   "outputs": [],
   "source": [
    "deadly_y = df[df[\"deadly_attack\"] == \"Y\"]"
   ]
  },
  {
   "cell_type": "code",
   "execution_count": 13,
   "id": "0a8d8542",
   "metadata": {},
   "outputs": [],
   "source": [
    "top_5_deadly_activities = deadly_y[\"activity\"].value_counts().reset_index().head(5)"
   ]
  },
  {
   "cell_type": "code",
   "execution_count": 14,
   "id": "0b5e02d9",
   "metadata": {},
   "outputs": [
    {
     "data": {
      "text/html": [
       "<div>\n",
       "<style scoped>\n",
       "    .dataframe tbody tr th:only-of-type {\n",
       "        vertical-align: middle;\n",
       "    }\n",
       "\n",
       "    .dataframe tbody tr th {\n",
       "        vertical-align: top;\n",
       "    }\n",
       "\n",
       "    .dataframe thead th {\n",
       "        text-align: right;\n",
       "    }\n",
       "</style>\n",
       "<table border=\"1\" class=\"dataframe\">\n",
       "  <thead>\n",
       "    <tr style=\"text-align: right;\">\n",
       "      <th></th>\n",
       "      <th>activity</th>\n",
       "      <th>count</th>\n",
       "    </tr>\n",
       "  </thead>\n",
       "  <tbody>\n",
       "    <tr>\n",
       "      <th>0</th>\n",
       "      <td>Swimming</td>\n",
       "      <td>200</td>\n",
       "    </tr>\n",
       "    <tr>\n",
       "      <th>1</th>\n",
       "      <td>Fishing</td>\n",
       "      <td>116</td>\n",
       "    </tr>\n",
       "    <tr>\n",
       "      <th>2</th>\n",
       "      <td>Surf</td>\n",
       "      <td>87</td>\n",
       "    </tr>\n",
       "    <tr>\n",
       "      <th>3</th>\n",
       "      <td>Diving</td>\n",
       "      <td>75</td>\n",
       "    </tr>\n",
       "    <tr>\n",
       "      <th>4</th>\n",
       "      <td>Unknown</td>\n",
       "      <td>51</td>\n",
       "    </tr>\n",
       "  </tbody>\n",
       "</table>\n",
       "</div>"
      ],
      "text/plain": [
       "   activity  count\n",
       "0  Swimming    200\n",
       "1   Fishing    116\n",
       "2      Surf     87\n",
       "3    Diving     75\n",
       "4   Unknown     51"
      ]
     },
     "execution_count": 14,
     "metadata": {},
     "output_type": "execute_result"
    }
   ],
   "source": [
    "top_5_deadly_activities.head(5)"
   ]
  },
  {
   "cell_type": "code",
   "execution_count": 15,
   "id": "43553fb2",
   "metadata": {
    "scrolled": true
   },
   "outputs": [
    {
     "data": {
      "text/plain": [
       "Text(0, 0.5, 'Nº of cases')"
      ]
     },
     "execution_count": 15,
     "metadata": {},
     "output_type": "execute_result"
    },
    {
     "data": {
      "image/png": "[encoded data removed]",
      "text/plain": [
       "<Figure size 500x500 with 1 Axes>"
      ]
     },
     "metadata": {},
     "output_type": "display_data"
    }
   ],
   "source": [
    "plt.figure(figsize=(5, 5))\n",
    "plt.bar(top_5_deadly_activities[\"activity\"], top_5_deadly_activities[\"count\"])\n",
    "plt.title('Top 5 Deadly Activities 1950-2024')\n",
    "plt.xlabel('Activity')\n",
    "plt.ylabel('Nº of cases')"
   ]
  },
  {
   "cell_type": "markdown",
   "id": "6e2f61b1",
   "metadata": {},
   "source": [
    "### Provoke or unprovoke?"
   ]
  },
  {
   "cell_type": "code",
   "execution_count": 16,
   "id": "77ab084e",
   "metadata": {},
   "outputs": [
    {
     "data": {
      "text/html": [
       "<div>\n",
       "<style scoped>\n",
       "    .dataframe tbody tr th:only-of-type {\n",
       "        vertical-align: middle;\n",
       "    }\n",
       "\n",
       "    .dataframe tbody tr th {\n",
       "        vertical-align: top;\n",
       "    }\n",
       "\n",
       "    .dataframe thead th {\n",
       "        text-align: right;\n",
       "    }\n",
       "</style>\n",
       "<table border=\"1\" class=\"dataframe\">\n",
       "  <thead>\n",
       "    <tr style=\"text-align: right;\">\n",
       "      <th></th>\n",
       "      <th>type</th>\n",
       "      <th>count</th>\n",
       "    </tr>\n",
       "  </thead>\n",
       "  <tbody>\n",
       "    <tr>\n",
       "      <th>0</th>\n",
       "      <td>Unprovoked</td>\n",
       "      <td>605</td>\n",
       "    </tr>\n",
       "    <tr>\n",
       "      <th>1</th>\n",
       "      <td>Sea Disaster</td>\n",
       "      <td>69</td>\n",
       "    </tr>\n",
       "    <tr>\n",
       "      <th>2</th>\n",
       "      <td>Provoked</td>\n",
       "      <td>12</td>\n",
       "    </tr>\n",
       "    <tr>\n",
       "      <th>3</th>\n",
       "      <td>Unknown</td>\n",
       "      <td>11</td>\n",
       "    </tr>\n",
       "  </tbody>\n",
       "</table>\n",
       "</div>"
      ],
      "text/plain": [
       "           type  count\n",
       "0    Unprovoked    605\n",
       "1  Sea Disaster     69\n",
       "2      Provoked     12\n",
       "3       Unknown     11"
      ]
     },
     "execution_count": 16,
     "metadata": {},
     "output_type": "execute_result"
    }
   ],
   "source": [
    "deadly_y[\"type\"].value_counts().reset_index()"
   ]
  },
  {
   "cell_type": "code",
   "execution_count": 17,
   "id": "1bbb9fa8",
   "metadata": {},
   "outputs": [
    {
     "data": {
      "text/plain": [
       "697"
      ]
     },
     "execution_count": 17,
     "metadata": {},
     "output_type": "execute_result"
    }
   ],
   "source": [
    "deadly_y[\"type\"].value_counts().sum()"
   ]
  },
  {
   "cell_type": "code",
   "execution_count": 18,
   "id": "6a192524",
   "metadata": {},
   "outputs": [],
   "source": [
    "percentage_p_un = {}\n",
    "\n",
    "for ele, value in deadly_y[\"type\"].value_counts().items():\n",
    "    percentage_p_un[ele] = (value / len(deadly_y[\"type\"]) * 100)"
   ]
  },
  {
   "cell_type": "code",
   "execution_count": 19,
   "id": "0ff5d168",
   "metadata": {},
   "outputs": [],
   "source": [
    "percentage_p_un_rounded = {x: round(y,2) for x,y in percentage_p_un.items()}"
   ]
  },
  {
   "cell_type": "code",
   "execution_count": 20,
   "id": "98c784ad",
   "metadata": {},
   "outputs": [
    {
     "data": {
      "text/plain": [
       "{'Unprovoked': 86.8, 'Sea Disaster': 9.9, 'Provoked': 1.72, 'Unknown': 1.58}"
      ]
     },
     "execution_count": 20,
     "metadata": {},
     "output_type": "execute_result"
    }
   ],
   "source": [
    "percentage_p_un_rounded"
   ]
  },
  {
   "cell_type": "code",
   "execution_count": 21,
   "id": "b785b90c",
   "metadata": {},
   "outputs": [],
   "source": [
    "percentage_provoked_unprovoked = pd.DataFrame(list(percentage_p_un_rounded.items()), columns =[\"type\",\"percentage\"])"
   ]
  },
  {
   "cell_type": "code",
   "execution_count": 22,
   "id": "d072a50b",
   "metadata": {},
   "outputs": [
    {
     "data": {
      "text/html": [
       "<div>\n",
       "<style scoped>\n",
       "    .dataframe tbody tr th:only-of-type {\n",
       "        vertical-align: middle;\n",
       "    }\n",
       "\n",
       "    .dataframe tbody tr th {\n",
       "        vertical-align: top;\n",
       "    }\n",
       "\n",
       "    .dataframe thead th {\n",
       "        text-align: right;\n",
       "    }\n",
       "</style>\n",
       "<table border=\"1\" class=\"dataframe\">\n",
       "  <thead>\n",
       "    <tr style=\"text-align: right;\">\n",
       "      <th></th>\n",
       "      <th>type</th>\n",
       "      <th>percentage</th>\n",
       "    </tr>\n",
       "  </thead>\n",
       "  <tbody>\n",
       "    <tr>\n",
       "      <th>0</th>\n",
       "      <td>Unprovoked</td>\n",
       "      <td>86.80</td>\n",
       "    </tr>\n",
       "    <tr>\n",
       "      <th>1</th>\n",
       "      <td>Sea Disaster</td>\n",
       "      <td>9.90</td>\n",
       "    </tr>\n",
       "    <tr>\n",
       "      <th>2</th>\n",
       "      <td>Provoked</td>\n",
       "      <td>1.72</td>\n",
       "    </tr>\n",
       "    <tr>\n",
       "      <th>3</th>\n",
       "      <td>Unknown</td>\n",
       "      <td>1.58</td>\n",
       "    </tr>\n",
       "  </tbody>\n",
       "</table>\n",
       "</div>"
      ],
      "text/plain": [
       "           type  percentage\n",
       "0    Unprovoked       86.80\n",
       "1  Sea Disaster        9.90\n",
       "2      Provoked        1.72\n",
       "3       Unknown        1.58"
      ]
     },
     "execution_count": 22,
     "metadata": {},
     "output_type": "execute_result"
    }
   ],
   "source": [
    "percentage_provoked_unprovoked"
   ]
  },
  {
   "cell_type": "code",
   "execution_count": 23,
   "id": "69a3f0ee",
   "metadata": {},
   "outputs": [
    {
     "data": {
      "text/plain": [
       "Text(0, 0.5, 'Percentage')"
      ]
     },
     "execution_count": 23,
     "metadata": {},
     "output_type": "execute_result"
    },
    {
     "data": {
      "image/png": "[encoded data removed]",
      "text/plain": [
       "<Figure size 500x500 with 1 Axes>"
      ]
     },
     "metadata": {},
     "output_type": "display_data"
    }
   ],
   "source": [
    "plt.figure(figsize=(5, 5))\n",
    "plt.bar(percentage_provoked_unprovoked[\"type\"], percentage_provoked_unprovoked[\"percentage\"])\n",
    "plt.title('Human intention 1950-2024')\n",
    "plt.xlabel('Type')\n",
    "plt.ylabel('Percentage')"
   ]
  },
  {
   "cell_type": "markdown",
   "id": "da8bb0e9",
   "metadata": {},
   "source": [
    "### Most affected gender"
   ]
  },
  {
   "cell_type": "code",
   "execution_count": 24,
   "id": "9217a1c9",
   "metadata": {},
   "outputs": [
    {
     "data": {
      "text/html": [
       "<div>\n",
       "<style scoped>\n",
       "    .dataframe tbody tr th:only-of-type {\n",
       "        vertical-align: middle;\n",
       "    }\n",
       "\n",
       "    .dataframe tbody tr th {\n",
       "        vertical-align: top;\n",
       "    }\n",
       "\n",
       "    .dataframe thead th {\n",
       "        text-align: right;\n",
       "    }\n",
       "</style>\n",
       "<table border=\"1\" class=\"dataframe\">\n",
       "  <thead>\n",
       "    <tr style=\"text-align: right;\">\n",
       "      <th></th>\n",
       "      <th>sex</th>\n",
       "      <th>count</th>\n",
       "    </tr>\n",
       "  </thead>\n",
       "  <tbody>\n",
       "    <tr>\n",
       "      <th>0</th>\n",
       "      <td>Male</td>\n",
       "      <td>552</td>\n",
       "    </tr>\n",
       "    <tr>\n",
       "      <th>1</th>\n",
       "      <td>Female</td>\n",
       "      <td>81</td>\n",
       "    </tr>\n",
       "    <tr>\n",
       "      <th>2</th>\n",
       "      <td>Unknown</td>\n",
       "      <td>64</td>\n",
       "    </tr>\n",
       "  </tbody>\n",
       "</table>\n",
       "</div>"
      ],
      "text/plain": [
       "       sex  count\n",
       "0     Male    552\n",
       "1   Female     81\n",
       "2  Unknown     64"
      ]
     },
     "execution_count": 24,
     "metadata": {},
     "output_type": "execute_result"
    }
   ],
   "source": [
    "deadly_y[\"sex\"].value_counts().reset_index()"
   ]
  },
  {
   "cell_type": "code",
   "execution_count": 25,
   "id": "7d80093e",
   "metadata": {},
   "outputs": [
    {
     "data": {
      "text/plain": [
       "697"
      ]
     },
     "execution_count": 25,
     "metadata": {},
     "output_type": "execute_result"
    }
   ],
   "source": [
    "deadly_y[\"sex\"].value_counts().sum()"
   ]
  },
  {
   "cell_type": "code",
   "execution_count": 26,
   "id": "e5b26bd9",
   "metadata": {},
   "outputs": [],
   "source": [
    "percentage_s = {}\n",
    "\n",
    "for ele, value in deadly_y[\"sex\"].value_counts().items():\n",
    "    percentage_s[ele] = (value / len(deadly_y[\"sex\"]) * 100)"
   ]
  },
  {
   "cell_type": "code",
   "execution_count": 27,
   "id": "1a3423ce",
   "metadata": {},
   "outputs": [],
   "source": [
    "percentage_s_rounded = {x: round(y,2) for x,y in percentage_s.items()}"
   ]
  },
  {
   "cell_type": "code",
   "execution_count": 28,
   "id": "20f3ba13",
   "metadata": {},
   "outputs": [
    {
     "data": {
      "text/plain": [
       "{'Male': 79.2, 'Female': 11.62, 'Unknown': 9.18}"
      ]
     },
     "execution_count": 28,
     "metadata": {},
     "output_type": "execute_result"
    }
   ],
   "source": [
    "percentage_s_rounded"
   ]
  },
  {
   "cell_type": "code",
   "execution_count": 29,
   "id": "a0591e36",
   "metadata": {},
   "outputs": [],
   "source": [
    "percentage_sex = pd.DataFrame(list(percentage_s_rounded.items()), columns =[\"gender\",\"percentage\"])"
   ]
  },
  {
   "cell_type": "code",
   "execution_count": 30,
   "id": "4775f17f",
   "metadata": {},
   "outputs": [
    {
     "data": {
      "text/html": [
       "<div>\n",
       "<style scoped>\n",
       "    .dataframe tbody tr th:only-of-type {\n",
       "        vertical-align: middle;\n",
       "    }\n",
       "\n",
       "    .dataframe tbody tr th {\n",
       "        vertical-align: top;\n",
       "    }\n",
       "\n",
       "    .dataframe thead th {\n",
       "        text-align: right;\n",
       "    }\n",
       "</style>\n",
       "<table border=\"1\" class=\"dataframe\">\n",
       "  <thead>\n",
       "    <tr style=\"text-align: right;\">\n",
       "      <th></th>\n",
       "      <th>gender</th>\n",
       "      <th>percentage</th>\n",
       "    </tr>\n",
       "  </thead>\n",
       "  <tbody>\n",
       "    <tr>\n",
       "      <th>0</th>\n",
       "      <td>Male</td>\n",
       "      <td>79.20</td>\n",
       "    </tr>\n",
       "    <tr>\n",
       "      <th>1</th>\n",
       "      <td>Female</td>\n",
       "      <td>11.62</td>\n",
       "    </tr>\n",
       "    <tr>\n",
       "      <th>2</th>\n",
       "      <td>Unknown</td>\n",
       "      <td>9.18</td>\n",
       "    </tr>\n",
       "  </tbody>\n",
       "</table>\n",
       "</div>"
      ],
      "text/plain": [
       "    gender  percentage\n",
       "0     Male       79.20\n",
       "1   Female       11.62\n",
       "2  Unknown        9.18"
      ]
     },
     "execution_count": 30,
     "metadata": {},
     "output_type": "execute_result"
    }
   ],
   "source": [
    "percentage_sex"
   ]
  },
  {
   "cell_type": "code",
   "execution_count": 31,
   "id": "9a5f4b1d",
   "metadata": {},
   "outputs": [
    {
     "data": {
      "text/plain": [
       "Text(0, 0.5, 'Percentage')"
      ]
     },
     "execution_count": 31,
     "metadata": {},
     "output_type": "execute_result"
    },
    {
     "data": {
      "image/png": "[encoded data removed]",
      "text/plain": [
       "<Figure size 500x500 with 1 Axes>"
      ]
     },
     "metadata": {},
     "output_type": "display_data"
    }
   ],
   "source": [
    "plt.figure(figsize=(5, 5))\n",
    "plt.bar(percentage_sex[\"gender\"], percentage_sex[\"percentage\"])\n",
    "plt.title('Most affected gender 1950-2024')\n",
    "plt.xlabel('Gender')\n",
    "plt.ylabel('Percentage')"
   ]
  },
  {
   "cell_type": "markdown",
   "id": "e4ced2aa",
   "metadata": {},
   "source": [
    "### Deadliest time per activity"
   ]
  },
  {
   "cell_type": "code",
   "execution_count": 32,
   "id": "7ec0fed7",
   "metadata": {},
   "outputs": [],
   "source": [
    "activity_per_time = deadly_y.groupby([\"activity\", \"time\"]).size().reset_index(name=\"most_common_time\")"
   ]
  },
  {
   "cell_type": "code",
   "execution_count": 33,
   "id": "d1fd878a",
   "metadata": {},
   "outputs": [
    {
     "data": {
      "text/html": [
       "<div>\n",
       "<style scoped>\n",
       "    .dataframe tbody tr th:only-of-type {\n",
       "        vertical-align: middle;\n",
       "    }\n",
       "\n",
       "    .dataframe tbody tr th {\n",
       "        vertical-align: top;\n",
       "    }\n",
       "\n",
       "    .dataframe thead th {\n",
       "        text-align: right;\n",
       "    }\n",
       "</style>\n",
       "<table border=\"1\" class=\"dataframe\">\n",
       "  <thead>\n",
       "    <tr style=\"text-align: right;\">\n",
       "      <th></th>\n",
       "      <th>activity</th>\n",
       "      <th>time</th>\n",
       "      <th>most_common_time</th>\n",
       "    </tr>\n",
       "  </thead>\n",
       "  <tbody>\n",
       "    <tr>\n",
       "      <th>0</th>\n",
       "      <td>\"Flying Tiger\" transport plane went down with ...</td>\n",
       "      <td>Night</td>\n",
       "      <td>1</td>\n",
       "    </tr>\n",
       "    <tr>\n",
       "      <th>1</th>\n",
       "      <td>2 boats capsized</td>\n",
       "      <td>Night</td>\n",
       "      <td>1</td>\n",
       "    </tr>\n",
       "    <tr>\n",
       "      <th>2</th>\n",
       "      <td>25-foot cabin cruiser Happy Jack sank in heavy...</td>\n",
       "      <td>Night</td>\n",
       "      <td>1</td>\n",
       "    </tr>\n",
       "    <tr>\n",
       "      <th>3</th>\n",
       "      <td>3,909-ton Panamanian freighter Chieh Lee sank ...</td>\n",
       "      <td>Night</td>\n",
       "      <td>1</td>\n",
       "    </tr>\n",
       "    <tr>\n",
       "      <th>4</th>\n",
       "      <td>Adrift after the sinking of the motor yacht Pr...</td>\n",
       "      <td>Night</td>\n",
       "      <td>1</td>\n",
       "    </tr>\n",
       "  </tbody>\n",
       "</table>\n",
       "</div>"
      ],
      "text/plain": [
       "                                            activity   time  most_common_time\n",
       "0  \"Flying Tiger\" transport plane went down with ...  Night                 1\n",
       "1                                   2 boats capsized  Night                 1\n",
       "2  25-foot cabin cruiser Happy Jack sank in heavy...  Night                 1\n",
       "3  3,909-ton Panamanian freighter Chieh Lee sank ...  Night                 1\n",
       "4  Adrift after the sinking of the motor yacht Pr...  Night                 1"
      ]
     },
     "execution_count": 33,
     "metadata": {},
     "output_type": "execute_result"
    }
   ],
   "source": [
    "activity_per_time.head(5)"
   ]
  },
  {
   "cell_type": "code",
   "execution_count": 34,
   "id": "68c0194f",
   "metadata": {
    "scrolled": true
   },
   "outputs": [],
   "source": [
    "top_activities = activity_per_time.groupby(\"activity\").sum().sort_values(by=\"most_common_time\", ascending=False).head(5)"
   ]
  },
  {
   "cell_type": "code",
   "execution_count": 35,
   "id": "35fff543",
   "metadata": {},
   "outputs": [
    {
     "data": {
      "text/html": [
       "<div>\n",
       "<style scoped>\n",
       "    .dataframe tbody tr th:only-of-type {\n",
       "        vertical-align: middle;\n",
       "    }\n",
       "\n",
       "    .dataframe tbody tr th {\n",
       "        vertical-align: top;\n",
       "    }\n",
       "\n",
       "    .dataframe thead th {\n",
       "        text-align: right;\n",
       "    }\n",
       "</style>\n",
       "<table border=\"1\" class=\"dataframe\">\n",
       "  <thead>\n",
       "    <tr style=\"text-align: right;\">\n",
       "      <th></th>\n",
       "      <th>time</th>\n",
       "      <th>most_common_time</th>\n",
       "    </tr>\n",
       "    <tr>\n",
       "      <th>activity</th>\n",
       "      <th></th>\n",
       "      <th></th>\n",
       "    </tr>\n",
       "  </thead>\n",
       "  <tbody>\n",
       "    <tr>\n",
       "      <th>Swimming</th>\n",
       "      <td>AfternoonEveningMorningNight</td>\n",
       "      <td>200</td>\n",
       "    </tr>\n",
       "    <tr>\n",
       "      <th>Fishing</th>\n",
       "      <td>AfternoonEveningMorningNight</td>\n",
       "      <td>116</td>\n",
       "    </tr>\n",
       "    <tr>\n",
       "      <th>Surf</th>\n",
       "      <td>AfternoonEveningMorningNight</td>\n",
       "      <td>87</td>\n",
       "    </tr>\n",
       "    <tr>\n",
       "      <th>Diving</th>\n",
       "      <td>AfternoonEveningMorningNight</td>\n",
       "      <td>75</td>\n",
       "    </tr>\n",
       "    <tr>\n",
       "      <th>Unknown</th>\n",
       "      <td>AfternoonEveningNight</td>\n",
       "      <td>51</td>\n",
       "    </tr>\n",
       "  </tbody>\n",
       "</table>\n",
       "</div>"
      ],
      "text/plain": [
       "                                  time  most_common_time\n",
       "activity                                                \n",
       "Swimming  AfternoonEveningMorningNight               200\n",
       "Fishing   AfternoonEveningMorningNight               116\n",
       "Surf      AfternoonEveningMorningNight                87\n",
       "Diving    AfternoonEveningMorningNight                75\n",
       "Unknown          AfternoonEveningNight                51"
      ]
     },
     "execution_count": 35,
     "metadata": {},
     "output_type": "execute_result"
    }
   ],
   "source": [
    "top_activities"
   ]
  },
  {
   "cell_type": "code",
   "execution_count": 36,
   "id": "fec9f9c8",
   "metadata": {},
   "outputs": [],
   "source": [
    "deadliest_activity_per_time = pd.DataFrame()\n",
    "\n",
    "for activity in top_activities.index:\n",
    "    activity_data = activity_per_time[activity_per_time[\"activity\"] == activity]\n",
    "    most_common_time = activity_data.loc[activity_data[\"most_common_time\"].idxmax()]\n",
    "    deadliest_activity_per_time = pd.concat([deadliest_activity_per_time, most_common_time.to_frame().T])"
   ]
  },
  {
   "cell_type": "code",
   "execution_count": 37,
   "id": "eca33688",
   "metadata": {},
   "outputs": [],
   "source": [
    "deadliest_activity_per_time.reset_index(drop=True, inplace=True)"
   ]
  },
  {
   "cell_type": "code",
   "execution_count": 38,
   "id": "8663a8cd",
   "metadata": {},
   "outputs": [
    {
     "data": {
      "text/html": [
       "<div>\n",
       "<style scoped>\n",
       "    .dataframe tbody tr th:only-of-type {\n",
       "        vertical-align: middle;\n",
       "    }\n",
       "\n",
       "    .dataframe tbody tr th {\n",
       "        vertical-align: top;\n",
       "    }\n",
       "\n",
       "    .dataframe thead th {\n",
       "        text-align: right;\n",
       "    }\n",
       "</style>\n",
       "<table border=\"1\" class=\"dataframe\">\n",
       "  <thead>\n",
       "    <tr style=\"text-align: right;\">\n",
       "      <th></th>\n",
       "      <th>activity</th>\n",
       "      <th>time</th>\n",
       "      <th>most_common_time</th>\n",
       "    </tr>\n",
       "  </thead>\n",
       "  <tbody>\n",
       "    <tr>\n",
       "      <th>0</th>\n",
       "      <td>Swimming</td>\n",
       "      <td>Night</td>\n",
       "      <td>91</td>\n",
       "    </tr>\n",
       "    <tr>\n",
       "      <th>1</th>\n",
       "      <td>Fishing</td>\n",
       "      <td>Night</td>\n",
       "      <td>76</td>\n",
       "    </tr>\n",
       "    <tr>\n",
       "      <th>2</th>\n",
       "      <td>Surf</td>\n",
       "      <td>Afternoon</td>\n",
       "      <td>32</td>\n",
       "    </tr>\n",
       "    <tr>\n",
       "      <th>3</th>\n",
       "      <td>Diving</td>\n",
       "      <td>Night</td>\n",
       "      <td>35</td>\n",
       "    </tr>\n",
       "    <tr>\n",
       "      <th>4</th>\n",
       "      <td>Unknown</td>\n",
       "      <td>Night</td>\n",
       "      <td>44</td>\n",
       "    </tr>\n",
       "  </tbody>\n",
       "</table>\n",
       "</div>"
      ],
      "text/plain": [
       "   activity       time most_common_time\n",
       "0  Swimming      Night               91\n",
       "1   Fishing      Night               76\n",
       "2      Surf  Afternoon               32\n",
       "3    Diving      Night               35\n",
       "4   Unknown      Night               44"
      ]
     },
     "execution_count": 38,
     "metadata": {},
     "output_type": "execute_result"
    }
   ],
   "source": [
    "deadliest_activity_per_time"
   ]
  }
 ],
 "metadata": {
  "kernelspec": {
   "display_name": "Python 3 (ipykernel)",
   "language": "python",
   "name": "python3"
  },
  "language_info": {
   "codemirror_mode": {
    "name": "ipython",
    "version": 3
   },
   "file_extension": ".py",
   "mimetype": "text/x-python",
   "name": "python",
   "nbconvert_exporter": "python",
   "pygments_lexer": "ipython3",
   "version": "3.11.5"
  }
 },
 "nbformat": 4,
 "nbformat_minor": 5
}
