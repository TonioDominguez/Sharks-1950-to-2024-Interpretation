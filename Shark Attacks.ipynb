{
 "cells": [
  {
   "cell_type": "markdown",
   "id": "4fffb155",
   "metadata": {},
   "source": [
    "# Initial clean"
   ]
  },
  {
   "cell_type": "code",
   "execution_count": 1,
   "id": "65fdb317",
   "metadata": {},
   "outputs": [
    {
     "name": "stdout",
     "output_type": "stream",
     "text": [
      "Requirement already satisfied: xlrd in c:\\users\\antdo\\anaconda3\\lib\\site-packages (2.0.1)\n"
     ]
    }
   ],
   "source": [
    "!pip install xlrd\n",
    "import pandas as pd\n"
   ]
  },
  {
   "cell_type": "code",
   "execution_count": 2,
   "id": "5aa10558",
   "metadata": {},
   "outputs": [],
   "source": [
    "import numpy as np"
   ]
  },
  {
   "cell_type": "code",
   "execution_count": 3,
   "id": "8b63c9b6",
   "metadata": {},
   "outputs": [],
   "source": [
    "data = pd.read_excel(\"GSAF5.xls\")"
   ]
  },
  {
   "cell_type": "code",
   "execution_count": 4,
   "id": "4b6869a6",
   "metadata": {},
   "outputs": [],
   "source": [
    "df = data.copy()"
   ]
  },
  {
   "cell_type": "code",
   "execution_count": 5,
   "id": "dd44d7c1",
   "metadata": {},
   "outputs": [],
   "source": [
    "df.columns = df.columns.str.lower().str.replace(\" \",\"_\").str.replace(\".\",\"_\").str.replace(\":\",\"\")"
   ]
  },
  {
   "cell_type": "code",
   "execution_count": 6,
   "id": "02383b1a",
   "metadata": {},
   "outputs": [],
   "source": [
    "df.dropna(how=\"all\",inplace=True)"
   ]
  },
  {
   "cell_type": "code",
   "execution_count": 7,
   "id": "fd777c27",
   "metadata": {},
   "outputs": [],
   "source": [
    "df.rename(columns={\"species_\":\"species\",\"unnamed_11\":\"deadly_attack\"}, inplace=True)"
   ]
  },
  {
   "cell_type": "markdown",
   "id": "6e2ec9d5",
   "metadata": {},
   "source": [
    "# Columns cleaning"
   ]
  },
  {
   "cell_type": "code",
   "execution_count": 8,
   "id": "b0afc0bf",
   "metadata": {},
   "outputs": [],
   "source": [
    "df = df.drop(['date','source', 'pdf', 'href_formula', 'href', 'case_number', 'case_number_1',\n",
    "       'original_order', 'unnamed_21', 'unnamed_22', \"age\", \"name\", \"location\",\"injury\",\"species\"], axis=1)"
   ]
  },
  {
   "cell_type": "code",
   "execution_count": 9,
   "id": "27cf65a2",
   "metadata": {},
   "outputs": [],
   "source": [
    "df.dropna(how=\"all\",inplace=True)"
   ]
  },
  {
   "cell_type": "markdown",
   "id": "2622cee2",
   "metadata": {},
   "source": [
    "### Year"
   ]
  },
  {
   "cell_type": "code",
   "execution_count": 10,
   "id": "5a10a3a5",
   "metadata": {},
   "outputs": [
    {
     "data": {
      "text/plain": [
       "2"
      ]
     },
     "execution_count": 10,
     "metadata": {},
     "output_type": "execute_result"
    }
   ],
   "source": [
    "df[\"year\"].isnull().sum()"
   ]
  },
  {
   "cell_type": "code",
   "execution_count": 11,
   "id": "01cd1135",
   "metadata": {},
   "outputs": [
    {
     "data": {
      "text/plain": [
       "1275    2013.0\n",
       "4852    1956.0\n",
       "5755    1927.0\n",
       "6463    1878.0\n",
       "1572    2010.0\n",
       "505     2019.0\n",
       "3619    1981.0\n",
       "5404    1939.0\n",
       "4781    1958.0\n",
       "1915    2007.0\n",
       "Name: year, dtype: float64"
      ]
     },
     "execution_count": 11,
     "metadata": {},
     "output_type": "execute_result"
    }
   ],
   "source": [
    "df[\"year\"].sample(10)"
   ]
  },
  {
   "cell_type": "code",
   "execution_count": 12,
   "id": "ded7638b",
   "metadata": {},
   "outputs": [],
   "source": [
    "df[\"year\"] = df[\"year\"].astype(\"Int64\")"
   ]
  },
  {
   "cell_type": "code",
   "execution_count": 13,
   "id": "e85db905",
   "metadata": {},
   "outputs": [
    {
     "data": {
      "text/plain": [
       "1682    2009\n",
       "106     2023\n",
       "3563    1983\n",
       "3157    1992\n",
       "Name: year, dtype: Int64"
      ]
     },
     "execution_count": 13,
     "metadata": {},
     "output_type": "execute_result"
    }
   ],
   "source": [
    "df[\"year\"].sample(4)"
   ]
  },
  {
   "cell_type": "code",
   "execution_count": 14,
   "id": "cf20c10f",
   "metadata": {},
   "outputs": [],
   "source": [
    "df.dropna(subset=[\"year\"], inplace=True) #Explote the nulls"
   ]
  },
  {
   "cell_type": "code",
   "execution_count": 15,
   "id": "fd23e5d1",
   "metadata": {},
   "outputs": [
    {
     "data": {
      "text/plain": [
       "0"
      ]
     },
     "execution_count": 15,
     "metadata": {},
     "output_type": "execute_result"
    }
   ],
   "source": [
    "df[\"year\"].isnull().sum()"
   ]
  },
  {
   "cell_type": "markdown",
   "id": "a750e68c",
   "metadata": {},
   "source": [
    "### Type"
   ]
  },
  {
   "cell_type": "code",
   "execution_count": 16,
   "id": "d352faad",
   "metadata": {},
   "outputs": [
    {
     "data": {
      "text/plain": [
       "array(['Provoked', 'Unprovoked', 'Questionable', 'Watercraft',\n",
       "       'Sea Disaster', nan, '?', 'Unconfirmed', 'Unverified', 'Invalid',\n",
       "       'Under investigation', 'Boat'], dtype=object)"
      ]
     },
     "execution_count": 16,
     "metadata": {},
     "output_type": "execute_result"
    }
   ],
   "source": [
    "df[\"type\"].unique()"
   ]
  },
  {
   "cell_type": "code",
   "execution_count": 17,
   "id": "efea6c7f",
   "metadata": {},
   "outputs": [],
   "source": [
    "df[\"type\"].fillna(\"Unknown\", inplace=True)"
   ]
  },
  {
   "cell_type": "code",
   "execution_count": 18,
   "id": "de307358",
   "metadata": {
    "scrolled": true
   },
   "outputs": [
    {
     "data": {
      "text/plain": [
       "type\n",
       "Unprovoked             5098\n",
       "Provoked                635\n",
       "Invalid                 551\n",
       "Watercraft              355\n",
       "Sea Disaster            242\n",
       "Questionable             22\n",
       "Unknown                  18\n",
       "Boat                      7\n",
       "?                         1\n",
       "Unconfirmed               1\n",
       "Unverified                1\n",
       "Under investigation       1\n",
       "Name: count, dtype: int64"
      ]
     },
     "execution_count": 18,
     "metadata": {},
     "output_type": "execute_result"
    }
   ],
   "source": [
    "df[\"type\"].value_counts()"
   ]
  },
  {
   "cell_type": "code",
   "execution_count": 19,
   "id": "dd50fc0f",
   "metadata": {},
   "outputs": [],
   "source": [
    "type_map = {\"Unprovoked\":\"Unprovoked\",\n",
    "            \"Provoked\":\"Provoked\",\n",
    "            \"Invalid\":\"Unknown\",\n",
    "            \"Questionable\":\"Unknown\",\n",
    "            \"Unknown\":\"Unknown\",\n",
    "            \"?\":\"Unknown\",\n",
    "            \"Unconfirmed\":\"Unknown\",\n",
    "            \"Unverified\":\"Unknown\",\n",
    "            \"Under investigation\":\"Unknown\",\n",
    "            \"Sea Disaster\":\"Sea Disaster\",\n",
    "            \"Watercraft\":\"Sea Disaster\",\n",
    "            \"Boat\":\"Sea Disaster\"\n",
    "            }"
   ]
  },
  {
   "cell_type": "code",
   "execution_count": 20,
   "id": "6eaa5df7",
   "metadata": {},
   "outputs": [],
   "source": [
    "df[\"type\"] = df[\"type\"].map(type_map)"
   ]
  },
  {
   "cell_type": "code",
   "execution_count": 21,
   "id": "ec1766df",
   "metadata": {
    "scrolled": true
   },
   "outputs": [
    {
     "data": {
      "text/plain": [
       "type\n",
       "Unprovoked      5098\n",
       "Provoked         635\n",
       "Sea Disaster     604\n",
       "Unknown          595\n",
       "Name: count, dtype: int64"
      ]
     },
     "execution_count": 21,
     "metadata": {},
     "output_type": "execute_result"
    }
   ],
   "source": [
    "df[\"type\"].value_counts()"
   ]
  },
  {
   "cell_type": "code",
   "execution_count": 22,
   "id": "14b275a3",
   "metadata": {},
   "outputs": [
    {
     "data": {
      "text/plain": [
       "year                0\n",
       "type                0\n",
       "country            50\n",
       "state             482\n",
       "activity          585\n",
       "sex               579\n",
       "deadly_attack     560\n",
       "time             3521\n",
       "dtype: int64"
      ]
     },
     "execution_count": 22,
     "metadata": {},
     "output_type": "execute_result"
    }
   ],
   "source": [
    "df.isnull().sum()"
   ]
  },
  {
   "cell_type": "markdown",
   "id": "8ff877d5",
   "metadata": {},
   "source": [
    "### Country"
   ]
  },
  {
   "cell_type": "code",
   "execution_count": 23,
   "id": "303011d8",
   "metadata": {},
   "outputs": [],
   "source": [
    "df[\"country\"] = df[\"country\"].str.upper().str.strip()"
   ]
  },
  {
   "cell_type": "code",
   "execution_count": 24,
   "id": "a2763013",
   "metadata": {},
   "outputs": [],
   "source": [
    "#Don't use replace! instead use lambda for no more duplicates\n",
    "\n",
    "#df[\"country\"] = df[\"country\"].str.replace(\"ASIA?\",\"ASIA\")\n",
    "df[\"country\"] = df[\"country\"].apply(lambda x: \"ASIA\" if x == \"ASIA?\" else x)\n",
    "#df[\"country\"] = df[\"country\"].str.replace(\"COLUMBIA\",\"COLOMBIA\")\n",
    "df[\"country\"] = df[\"country\"].apply(lambda x: \"COLOMBIA\" if x == \"COLUMBIA\" else x)\n",
    "#df[\"country\"] = df[\"country\"].str.replace(\"INDIAN OCEAN?\",\"INDIAN OCEAN\")\n",
    "df[\"country\"] = df[\"country\"].apply(lambda x: \"INDIAN OCEAN\" if x == \"INDIAN OCEAN?\" else x)\n",
    "#df[\"country\"] = df[\"country\"].str.replace(\"OKINAWA\",\"JAPAN\")\n",
    "df[\"country\"] = df[\"country\"].apply(lambda x: \"JAPAN\" if x == \"OKINAWA\" else x)\n",
    "#df[\"country\"] = df[\"country\"].str.replace(\"RED SEA?\",\"RED SEA / INDIAN OCEAN\")\n",
    "df[\"country\"] = df[\"country\"].apply(lambda x: \"RED SEA / INDIAN OCEAN\" if x == \"RED SEA?\" else x)\n",
    "#df[\"country\"] = df[\"country\"].str.replace(\"REUNION\",\"REUNION ISLAND\")\n",
    "df[\"country\"] = df[\"country\"].apply(lambda x: \"REUNION ISLAND\" if x == \"REUNION\" else x)\n",
    "#df[\"country\"] = df[\"country\"].str.replace(\"SAN DOMINGO\",\"DOMINICAN REPUBLIC\")\n",
    "df[\"country\"] = df[\"country\"].apply(lambda x: \"DOMINICAN REPUBLIC\" if x == \"SAN DOMINGO\" else x)\n",
    "#df[\"country\"] = df[\"country\"].str.replace(\"ST. MAARTIN\",\"ST. MARTIN\")\n",
    "df[\"country\"] = df[\"country\"].apply(lambda x: \"ST. MARTIN\" if x == \"ST. MAARTIN\" else x)\n",
    "#df[\"country\"] = df[\"country\"].str.replace(\"SUDAN?\",\"SUDAN\")\n",
    "df[\"country\"] = df[\"country\"].apply(lambda x: \"SUDAN\" if x == \"SUDAN?\" else x)\n",
    "#df[\"country\"] = df[\"country\"].str.replace(\"TURKS & CAICOS\",\"TURKS AND CAICOS\")\n",
    "df[\"country\"] = df[\"country\"].apply(lambda x: \"TURKS AND CAICOS\" if x == \"TURKS & CAICOS\" else x)\n",
    "#df[\"country\"] = df[\"country\"].str.replace(\"UNITED ARAB EMIRATES (UAE)\",\"UNITED ARAB EMIRATES\")\n",
    "df[\"country\"] = df[\"country\"].apply(lambda x: \"UNITED ARAB EMIRATES\" if x == \"UNITED ARAB EMIRATES (UAE)\" else x)"
   ]
  },
  {
   "cell_type": "code",
   "execution_count": 25,
   "id": "65886821",
   "metadata": {},
   "outputs": [],
   "source": [
    "df[\"country\"].fillna(\"Unknown\", inplace=True)"
   ]
  },
  {
   "cell_type": "markdown",
   "id": "8a8a49d3",
   "metadata": {},
   "source": [
    "### State"
   ]
  },
  {
   "cell_type": "code",
   "execution_count": 27,
   "id": "e0f84713",
   "metadata": {},
   "outputs": [],
   "source": [
    "df[\"state\"].fillna(\"Unknown\", inplace=True)"
   ]
  },
  {
   "cell_type": "markdown",
   "id": "0eaa0ed4",
   "metadata": {},
   "source": [
    "### Activity"
   ]
  },
  {
   "cell_type": "code",
   "execution_count": 33,
   "id": "e3f2c6f6",
   "metadata": {},
   "outputs": [],
   "source": [
    "#Code provided by Victor. Thanks mate!\n",
    "\n",
    "df.loc[df['activity'].str.contains('Swim', case=False, na=False), 'activity'] = 'Swimming'\n",
    "df.loc[df['activity'].str.contains('Bat', case=False, na=False), 'activity'] = 'Bathing'\n",
    "df.loc[df['activity'].str.contains('Sur', case=False, na=False), 'activity'] = 'Surf'\n",
    "df.loc[df['activity'].str.contains('fis' or 'net', case=False, na=False), 'activity'] = 'Fishing'\n",
    "df.loc[df['activity'].str.contains('div', case=False, na=False), 'activity'] = 'Diving'\n",
    "df.loc[df['activity'].str.contains('Fell', case=False, na=False), 'activity'] = 'Fell into the water '\n",
    "df.loc[df['activity'].str.contains('Flo'or 'Treading water', case=False, na=False), 'activity'] = 'Floating '\n",
    "df.loc[df['activity'].str.contains('Paddle', case=False, na=False), 'activity'] = 'Paddle boarding'\n",
    "df.loc[df['activity'].str.contains('Jum', case=False, na=False), 'activity'] = 'Jumping'\n",
    "df.loc[df['activity'].str.contains('Phot' or 'fil', case=False, na=False), 'activity'] = 'Photography and filming'\n",
    "df.loc[df['activity'].str.contains('Air', case=False, na=False), 'activity'] = 'Air Disaster'\n",
    "df.loc[df['activity'].str.contains('Feed', case=False, na=False), 'activity'] = 'Feeding a shark'\n",
    "df.loc[df['activity'].str.contains('cano', case=False, na=False), 'activity'] = 'Canoe'\n",
    "df.loc[df['activity'].str.contains('Bod', case=False, na=False), 'activity'] = 'Body boarding'"
   ]
  },
  {
   "cell_type": "markdown",
   "id": "972ff262",
   "metadata": {},
   "source": [
    "### Sex"
   ]
  },
  {
   "cell_type": "code",
   "execution_count": 38,
   "id": "cee80fe2",
   "metadata": {},
   "outputs": [],
   "source": [
    "sex_map = {\"M\":\"Male\",\n",
    "            \"F\":\"Female\",\n",
    "            \"N\":\"Unknown\",\n",
    "            \" M\":\"Unknown\",\n",
    "            \"lli\":\"Unknown\",\n",
    "            \"?\":\"Unknown\",\n",
    "            \"M x 2\":\"Unknown\",\n",
    "            \".\":\"Unknown\"\n",
    "            }"
   ]
  },
  {
   "cell_type": "code",
   "execution_count": 39,
   "id": "6efb5933",
   "metadata": {},
   "outputs": [],
   "source": [
    "df[\"sex\"] = df[\"sex\"].map(sex_map)"
   ]
  },
  {
   "cell_type": "code",
   "execution_count": 42,
   "id": "216c08d7",
   "metadata": {},
   "outputs": [],
   "source": [
    "df[\"sex\"].fillna(\"Unknown\", inplace=True)"
   ]
  },
  {
   "cell_type": "markdown",
   "id": "e59a9d76",
   "metadata": {},
   "source": [
    "### Deadly Attack"
   ]
  },
  {
   "cell_type": "code",
   "execution_count": 47,
   "id": "0425925e",
   "metadata": {},
   "outputs": [],
   "source": [
    "df[\"deadly_attack\"] = df[\"deadly_attack\"].apply(lambda x: \"U\" if x not in [\"Y\",\"N\"] else x)"
   ]
  },
  {
   "cell_type": "code",
   "execution_count": 49,
   "id": "81e91e68",
   "metadata": {},
   "outputs": [
    {
     "data": {
      "text/plain": [
       "0       N\n",
       "1       N\n",
       "2       N\n",
       "3       N\n",
       "4       Y\n",
       "       ..\n",
       "6929    Y\n",
       "6930    Y\n",
       "6931    Y\n",
       "6932    Y\n",
       "6933    Y\n",
       "Name: deadly_attack, Length: 6932, dtype: object"
      ]
     },
     "execution_count": 49,
     "metadata": {},
     "output_type": "execute_result"
    }
   ],
   "source": [
    "df[\"deadly_attack\"].fillna(\"U\")"
   ]
  },
  {
   "cell_type": "markdown",
   "id": "d0862463",
   "metadata": {},
   "source": [
    "### Time"
   ]
  },
  {
   "cell_type": "code",
   "execution_count": 52,
   "id": "85399f46",
   "metadata": {},
   "outputs": [],
   "source": [
    "import re\n",
    "\n",
    "def categories(x):\n",
    "    if \"morning\" in str(x).lower() or \"dawn\" in str(x).lower():\n",
    "        x = str(600)\n",
    "    elif \"afternoon\" in str(x).lower() or \"noon\" in str(x).lower() or \"am\" in str(x).lower() or \"a.m.\" in str(x).lower() or \"day\" in str(x).lower() or \"time\" in str(x).lower():\n",
    "        x = str(1200)\n",
    "    elif \"evening\" in str(x).lower() or \"dusk\" in str(x).lower() or \"p.m.\" in str(x).lower() or \"sun\" in str(x).lower():\n",
    "        x = str(1800)\n",
    "    elif \"night\" in str(x).lower():\n",
    "        x = str(0)\n",
    "    x = re.sub('[^0-9]','', str(x)) #re.sub searches for all the instances of pattern in the given string, and replaces them\n",
    "    if len(x)<4:\n",
    "        x = \"0\"+str(x)\n",
    "    if len(x)>4:\n",
    "        x = str(x)[:4]\n",
    "    x = x.replace('h', '')\n",
    "    return x\n",
    "\n",
    "df[\"time\"] = df[\"time\"].apply(categories)"
   ]
  },
  {
   "cell_type": "code",
   "execution_count": 53,
   "id": "c3b35a15",
   "metadata": {},
   "outputs": [],
   "source": [
    "def newtime(x):\n",
    "    \n",
    "    if int(x) >= 500 and int(x) < 1200:\n",
    "        x = \"Morning\"\n",
    "    elif int(x) >= 1200 and int(x) < 1600:\n",
    "        x = \"Afternoon\"\n",
    "    elif int(x) >= 1600 and int(x) < 2000:\n",
    "        x = \"Evening\"\n",
    "    elif int(x) >= 2000 and int(x) < 3000 or (int(x) >= 0 and int(x) < 500):\n",
    "        x = \"Night\"\n",
    "    return x\n",
    "\n",
    "df[\"time\"] = df[\"time\"].apply(newtime)"
   ]
  },
  {
   "cell_type": "code",
   "execution_count": 56,
   "id": "42e7d096",
   "metadata": {
    "scrolled": false
   },
   "outputs": [
    {
     "data": {
      "text/plain": [
       "year             0\n",
       "type             0\n",
       "country          0\n",
       "state            0\n",
       "activity         0\n",
       "sex              0\n",
       "deadly_attack    0\n",
       "time             0\n",
       "dtype: int64"
      ]
     },
     "execution_count": 56,
     "metadata": {},
     "output_type": "execute_result"
    }
   ],
   "source": [
    "df.isnull().sum()"
   ]
  },
  {
   "cell_type": "markdown",
   "id": "01205f3f",
   "metadata": {},
   "source": [
    "## Final filtering and grouping"
   ]
  },
  {
   "cell_type": "code",
   "execution_count": 57,
   "id": "298bf087",
   "metadata": {},
   "outputs": [],
   "source": [
    "ordered_columns = [\"year\",\"sex\",\"country\",\"state\",\"time\",\"activity\",\"type\",\"deadly_attack\"]\n",
    "ultimate_df = df[ordered_columns]"
   ]
  },
  {
   "cell_type": "code",
   "execution_count": 58,
   "id": "2509fa1b",
   "metadata": {},
   "outputs": [
    {
     "data": {
      "text/html": [
       "<div>\n",
       "<style scoped>\n",
       "    .dataframe tbody tr th:only-of-type {\n",
       "        vertical-align: middle;\n",
       "    }\n",
       "\n",
       "    .dataframe tbody tr th {\n",
       "        vertical-align: top;\n",
       "    }\n",
       "\n",
       "    .dataframe thead th {\n",
       "        text-align: right;\n",
       "    }\n",
       "</style>\n",
       "<table border=\"1\" class=\"dataframe\">\n",
       "  <thead>\n",
       "    <tr style=\"text-align: right;\">\n",
       "      <th></th>\n",
       "      <th>year</th>\n",
       "      <th>sex</th>\n",
       "      <th>country</th>\n",
       "      <th>state</th>\n",
       "      <th>time</th>\n",
       "      <th>activity</th>\n",
       "      <th>type</th>\n",
       "      <th>deadly_attack</th>\n",
       "    </tr>\n",
       "  </thead>\n",
       "  <tbody>\n",
       "    <tr>\n",
       "      <th>0</th>\n",
       "      <td>2024</td>\n",
       "      <td>Male</td>\n",
       "      <td>BAHRAIN</td>\n",
       "      <td>Unknown</td>\n",
       "      <td>Night</td>\n",
       "      <td>Fishing</td>\n",
       "      <td>Provoked</td>\n",
       "      <td>N</td>\n",
       "    </tr>\n",
       "    <tr>\n",
       "      <th>1</th>\n",
       "      <td>2024</td>\n",
       "      <td>Male</td>\n",
       "      <td>BAHAMAS</td>\n",
       "      <td>Paradise  Island</td>\n",
       "      <td>Evening</td>\n",
       "      <td>Swimming</td>\n",
       "      <td>Unprovoked</td>\n",
       "      <td>N</td>\n",
       "    </tr>\n",
       "    <tr>\n",
       "      <th>2</th>\n",
       "      <td>2024</td>\n",
       "      <td>Male</td>\n",
       "      <td>AUSTRALIA</td>\n",
       "      <td>South Australia</td>\n",
       "      <td>Afternoon</td>\n",
       "      <td>Surf</td>\n",
       "      <td>Unprovoked</td>\n",
       "      <td>N</td>\n",
       "    </tr>\n",
       "    <tr>\n",
       "      <th>3</th>\n",
       "      <td>2024</td>\n",
       "      <td>Male</td>\n",
       "      <td>SOUTH AFRICA</td>\n",
       "      <td>Eastern Cape Province</td>\n",
       "      <td>Night</td>\n",
       "      <td>Fishing</td>\n",
       "      <td>Provoked</td>\n",
       "      <td>N</td>\n",
       "    </tr>\n",
       "    <tr>\n",
       "      <th>4</th>\n",
       "      <td>2023</td>\n",
       "      <td>Male</td>\n",
       "      <td>USA</td>\n",
       "      <td>Hawaii</td>\n",
       "      <td>Morning</td>\n",
       "      <td>Surf</td>\n",
       "      <td>Unprovoked</td>\n",
       "      <td>Y</td>\n",
       "    </tr>\n",
       "    <tr>\n",
       "      <th>5</th>\n",
       "      <td>2023</td>\n",
       "      <td>Male</td>\n",
       "      <td>MEXICO</td>\n",
       "      <td>Sonora</td>\n",
       "      <td>Afternoon</td>\n",
       "      <td>Diving</td>\n",
       "      <td>Unprovoked</td>\n",
       "      <td>Y</td>\n",
       "    </tr>\n",
       "    <tr>\n",
       "      <th>6</th>\n",
       "      <td>2023</td>\n",
       "      <td>Male</td>\n",
       "      <td>AUSTRALIA</td>\n",
       "      <td>South Australia</td>\n",
       "      <td>Afternoon</td>\n",
       "      <td>Surf</td>\n",
       "      <td>Unprovoked</td>\n",
       "      <td>Y</td>\n",
       "    </tr>\n",
       "    <tr>\n",
       "      <th>7</th>\n",
       "      <td>2023</td>\n",
       "      <td>Male</td>\n",
       "      <td>AUSTRALIA</td>\n",
       "      <td>New South Wales</td>\n",
       "      <td>Evening</td>\n",
       "      <td>Surf</td>\n",
       "      <td>Unprovoked</td>\n",
       "      <td>N</td>\n",
       "    </tr>\n",
       "    <tr>\n",
       "      <th>8</th>\n",
       "      <td>2023</td>\n",
       "      <td>Male</td>\n",
       "      <td>AUSTRALIA</td>\n",
       "      <td>Western Australia</td>\n",
       "      <td>Afternoon</td>\n",
       "      <td>Foil Boarding</td>\n",
       "      <td>Unprovoked</td>\n",
       "      <td>N</td>\n",
       "    </tr>\n",
       "    <tr>\n",
       "      <th>9</th>\n",
       "      <td>2023</td>\n",
       "      <td>Female</td>\n",
       "      <td>NEW ZEALAND</td>\n",
       "      <td>South Island</td>\n",
       "      <td>Night</td>\n",
       "      <td>Wading</td>\n",
       "      <td>Unprovoked</td>\n",
       "      <td>N</td>\n",
       "    </tr>\n",
       "    <tr>\n",
       "      <th>10</th>\n",
       "      <td>2023</td>\n",
       "      <td>Male</td>\n",
       "      <td>MEXICO</td>\n",
       "      <td>Guerrero</td>\n",
       "      <td>Morning</td>\n",
       "      <td>Swimming</td>\n",
       "      <td>Unknown</td>\n",
       "      <td>Y</td>\n",
       "    </tr>\n",
       "    <tr>\n",
       "      <th>11</th>\n",
       "      <td>2023</td>\n",
       "      <td>Female</td>\n",
       "      <td>MEXICO</td>\n",
       "      <td>Guerrero</td>\n",
       "      <td>Morning</td>\n",
       "      <td>Swimming</td>\n",
       "      <td>Unknown</td>\n",
       "      <td>N</td>\n",
       "    </tr>\n",
       "    <tr>\n",
       "      <th>12</th>\n",
       "      <td>2023</td>\n",
       "      <td>Male</td>\n",
       "      <td>AUSTRALIA</td>\n",
       "      <td>Queensland</td>\n",
       "      <td>Evening</td>\n",
       "      <td>Snorkeling</td>\n",
       "      <td>Unprovoked</td>\n",
       "      <td>N</td>\n",
       "    </tr>\n",
       "    <tr>\n",
       "      <th>13</th>\n",
       "      <td>2023</td>\n",
       "      <td>Female</td>\n",
       "      <td>BAHAMAS</td>\n",
       "      <td>New Providence   Isoad</td>\n",
       "      <td>Morning</td>\n",
       "      <td>Paddle boarding</td>\n",
       "      <td>Unprovoked</td>\n",
       "      <td>Y</td>\n",
       "    </tr>\n",
       "    <tr>\n",
       "      <th>14</th>\n",
       "      <td>2023</td>\n",
       "      <td>Female</td>\n",
       "      <td>MEXICO</td>\n",
       "      <td>Jalisco</td>\n",
       "      <td>Morning</td>\n",
       "      <td>Swimming</td>\n",
       "      <td>Unprovoked</td>\n",
       "      <td>Y</td>\n",
       "    </tr>\n",
       "  </tbody>\n",
       "</table>\n",
       "</div>"
      ],
      "text/plain": [
       "    year     sex       country                   state       time  \\\n",
       "0   2024    Male       BAHRAIN                 Unknown      Night   \n",
       "1   2024    Male       BAHAMAS        Paradise  Island    Evening   \n",
       "2   2024    Male     AUSTRALIA         South Australia  Afternoon   \n",
       "3   2024    Male  SOUTH AFRICA   Eastern Cape Province      Night   \n",
       "4   2023    Male           USA                  Hawaii    Morning   \n",
       "5   2023    Male        MEXICO                  Sonora  Afternoon   \n",
       "6   2023    Male     AUSTRALIA         South Australia  Afternoon   \n",
       "7   2023    Male     AUSTRALIA         New South Wales    Evening   \n",
       "8   2023    Male     AUSTRALIA       Western Australia  Afternoon   \n",
       "9   2023  Female   NEW ZEALAND            South Island      Night   \n",
       "10  2023    Male        MEXICO                Guerrero    Morning   \n",
       "11  2023  Female        MEXICO                Guerrero    Morning   \n",
       "12  2023    Male     AUSTRALIA              Queensland    Evening   \n",
       "13  2023  Female       BAHAMAS  New Providence   Isoad    Morning   \n",
       "14  2023  Female        MEXICO                 Jalisco    Morning   \n",
       "\n",
       "           activity        type deadly_attack  \n",
       "0           Fishing    Provoked             N  \n",
       "1          Swimming  Unprovoked             N  \n",
       "2              Surf  Unprovoked             N  \n",
       "3           Fishing    Provoked             N  \n",
       "4              Surf  Unprovoked             Y  \n",
       "5            Diving  Unprovoked             Y  \n",
       "6              Surf  Unprovoked             Y  \n",
       "7              Surf  Unprovoked             N  \n",
       "8     Foil Boarding  Unprovoked             N  \n",
       "9            Wading  Unprovoked             N  \n",
       "10         Swimming     Unknown             Y  \n",
       "11         Swimming     Unknown             N  \n",
       "12       Snorkeling  Unprovoked             N  \n",
       "13  Paddle boarding  Unprovoked             Y  \n",
       "14         Swimming  Unprovoked             Y  "
      ]
     },
     "execution_count": 58,
     "metadata": {},
     "output_type": "execute_result"
    }
   ],
   "source": [
    "ultimate_df.head(15)"
   ]
  },
  {
   "cell_type": "code",
   "execution_count": 59,
   "id": "eb27f821",
   "metadata": {},
   "outputs": [],
   "source": [
    "sharks_1950 = ultimate_df[ultimate_df[\"year\"] >= 1950]\n"
   ]
  },
  {
   "cell_type": "code",
   "execution_count": 60,
   "id": "cf720f13",
   "metadata": {},
   "outputs": [
    {
     "data": {
      "text/html": [
       "<div>\n",
       "<style scoped>\n",
       "    .dataframe tbody tr th:only-of-type {\n",
       "        vertical-align: middle;\n",
       "    }\n",
       "\n",
       "    .dataframe tbody tr th {\n",
       "        vertical-align: top;\n",
       "    }\n",
       "\n",
       "    .dataframe thead th {\n",
       "        text-align: right;\n",
       "    }\n",
       "</style>\n",
       "<table border=\"1\" class=\"dataframe\">\n",
       "  <thead>\n",
       "    <tr style=\"text-align: right;\">\n",
       "      <th></th>\n",
       "      <th>year</th>\n",
       "      <th>sex</th>\n",
       "      <th>country</th>\n",
       "      <th>state</th>\n",
       "      <th>time</th>\n",
       "      <th>activity</th>\n",
       "      <th>type</th>\n",
       "      <th>deadly_attack</th>\n",
       "    </tr>\n",
       "  </thead>\n",
       "  <tbody>\n",
       "    <tr>\n",
       "      <th>5113</th>\n",
       "      <td>1950</td>\n",
       "      <td>Unknown</td>\n",
       "      <td>GREECE</td>\n",
       "      <td>Unknown</td>\n",
       "      <td>Night</td>\n",
       "      <td>Swimming</td>\n",
       "      <td>Unprovoked</td>\n",
       "      <td>Y</td>\n",
       "    </tr>\n",
       "    <tr>\n",
       "      <th>5114</th>\n",
       "      <td>1950</td>\n",
       "      <td>Male</td>\n",
       "      <td>SINGAPORE</td>\n",
       "      <td>Singapore Harbor</td>\n",
       "      <td>Night</td>\n",
       "      <td>Diving</td>\n",
       "      <td>Unprovoked</td>\n",
       "      <td>Y</td>\n",
       "    </tr>\n",
       "    <tr>\n",
       "      <th>5115</th>\n",
       "      <td>1950</td>\n",
       "      <td>Male</td>\n",
       "      <td>NEW CALEDONIA</td>\n",
       "      <td>North Province</td>\n",
       "      <td>Night</td>\n",
       "      <td>Fishing</td>\n",
       "      <td>Unprovoked</td>\n",
       "      <td>N</td>\n",
       "    </tr>\n",
       "    <tr>\n",
       "      <th>5116</th>\n",
       "      <td>1950</td>\n",
       "      <td>Male</td>\n",
       "      <td>NEW CALEDONIA</td>\n",
       "      <td>North Province</td>\n",
       "      <td>Night</td>\n",
       "      <td>Diving</td>\n",
       "      <td>Unprovoked</td>\n",
       "      <td>N</td>\n",
       "    </tr>\n",
       "    <tr>\n",
       "      <th>5117</th>\n",
       "      <td>1950</td>\n",
       "      <td>Male</td>\n",
       "      <td>FIJI</td>\n",
       "      <td>Unknown</td>\n",
       "      <td>Night</td>\n",
       "      <td>Unknown</td>\n",
       "      <td>Unprovoked</td>\n",
       "      <td>N</td>\n",
       "    </tr>\n",
       "  </tbody>\n",
       "</table>\n",
       "</div>"
      ],
      "text/plain": [
       "      year      sex        country             state   time  activity  \\\n",
       "5113  1950  Unknown         GREECE           Unknown  Night  Swimming   \n",
       "5114  1950     Male      SINGAPORE  Singapore Harbor  Night    Diving   \n",
       "5115  1950     Male  NEW CALEDONIA    North Province  Night   Fishing   \n",
       "5116  1950     Male  NEW CALEDONIA    North Province  Night    Diving   \n",
       "5117  1950     Male           FIJI           Unknown  Night   Unknown   \n",
       "\n",
       "            type deadly_attack  \n",
       "5113  Unprovoked             Y  \n",
       "5114  Unprovoked             Y  \n",
       "5115  Unprovoked             N  \n",
       "5116  Unprovoked             N  \n",
       "5117  Unprovoked             N  "
      ]
     },
     "execution_count": 60,
     "metadata": {},
     "output_type": "execute_result"
    }
   ],
   "source": [
    "sharks_1950.tail(5)"
   ]
  },
  {
   "cell_type": "code",
   "execution_count": 61,
   "id": "ca065682",
   "metadata": {},
   "outputs": [],
   "source": [
    "sharks_1950_to_2024 = sharks_1950.to_csv()"
   ]
  }
 ],
 "metadata": {
  "kernelspec": {
   "display_name": "Python 3 (ipykernel)",
   "language": "python",
   "name": "python3"
  },
  "language_info": {
   "codemirror_mode": {
    "name": "ipython",
    "version": 3
   },
   "file_extension": ".py",
   "mimetype": "text/x-python",
   "name": "python",
   "nbconvert_exporter": "python",
   "pygments_lexer": "ipython3",
   "version": "3.11.5"
  }
 },
 "nbformat": 4,
 "nbformat_minor": 5
}
